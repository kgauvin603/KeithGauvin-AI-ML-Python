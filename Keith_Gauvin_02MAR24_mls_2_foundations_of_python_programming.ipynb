{
  "cells": [
    {
      "cell_type": "markdown",
      "metadata": {
        "id": "view-in-github",
        "colab_type": "text"
      },
      "source": [
        "<a href=\"https://colab.research.google.com/github/kgauvin603/desktop-tutorial/blob/main/Keith_Gauvin_02MAR24_mls_2_foundations_of_python_programming.ipynb\" target=\"_parent\"><img src=\"https://colab.research.google.com/assets/colab-badge.svg\" alt=\"Open In Colab\"/></a>"
      ]
    },
    {
      "cell_type": "markdown",
      "metadata": {
        "id": "dSVuC3c9zAft"
      },
      "source": [
        "# Week-2 Foundations of Python Programming - MLS"
      ]
    },
    {
      "cell_type": "markdown",
      "metadata": {
        "id": "LFqGx_Dhf98M"
      },
      "source": [
        "## Table of Content\n",
        "1. Print\n",
        "2. Data Types\n",
        "3. Boolean Operations\n",
        "4. Concatenation\n",
        "5. Arithmetic Operations\n",
        "6. List\n",
        "7. Tuple\n",
        "8. Set\n",
        "9. Dictionary\n",
        "10. Conditional Statements\n",
        "11. Python Control Flow\n",
        "12. Print Patterns"
      ]
    },
    {
      "cell_type": "markdown",
      "metadata": {
        "id": "r4J-iIEhf98N"
      },
      "source": [
        "## Print\n",
        "1.1 Write a program to display a statement. For example, \"Hello, How are you?\""
      ]
    },
    {
      "cell_type": "code",
      "execution_count": null,
      "metadata": {
        "id": "TZatTfxJjAUr",
        "outputId": "57641eff-7eb7-41e8-bc78-712fde758ee8",
        "colab": {
          "base_uri": "https://localhost:8080/"
        }
      },
      "outputs": [
        {
          "output_type": "stream",
          "name": "stdout",
          "text": [
            "Hello, How are you?\n"
          ]
        }
      ],
      "source": [
        "print(\"Hello, How are you?\")\n"
      ]
    },
    {
      "cell_type": "markdown",
      "metadata": {
        "id": "1qmkJjrszAfy"
      },
      "source": [
        "1.2 Write the alphabets 'A', 'B', 'C' on new lines using a single print function."
      ]
    },
    {
      "cell_type": "code",
      "execution_count": null,
      "metadata": {
        "id": "SdmwGdgxjAUz",
        "colab": {
          "base_uri": "https://localhost:8080/"
        },
        "outputId": "bb56727c-a423-4499-8a9e-4fdc58d71f47"
      },
      "outputs": [
        {
          "output_type": "stream",
          "name": "stdout",
          "text": [
            "A\n",
            "B\n",
            "C\n"
          ]
        }
      ],
      "source": [
        "print(\"A\\nB\\nC\")\n"
      ]
    },
    {
      "cell_type": "markdown",
      "metadata": {
        "id": "QLSslfFdf98b"
      },
      "source": [
        "<a id=\"types\"> </a>\n",
        "## 2. Data types\n",
        "Create a string, a numeric and boolean variables by assigning variable names. Further, check their datatype. For numeric variable check for whole numbers and numbers with decimal point"
      ]
    },
    {
      "cell_type": "markdown",
      "metadata": {
        "id": "2R8Ix1P4f98c"
      },
      "source": [
        "2.1 Declare a string variable and check its data type"
      ]
    },
    {
      "cell_type": "code",
      "execution_count": null,
      "metadata": {
        "id": "G9tUhjLzjAU4",
        "colab": {
          "base_uri": "https://localhost:8080/"
        },
        "outputId": "d5976261-eb23-42b7-8aaa-021315aeedca"
      },
      "outputs": [
        {
          "output_type": "stream",
          "name": "stdout",
          "text": [
            "<class 'str'>\n"
          ]
        }
      ],
      "source": [
        "str = \"Hello\"\n",
        "print(type(str))"
      ]
    },
    {
      "cell_type": "markdown",
      "metadata": {
        "id": "3txBZsy1f98f"
      },
      "source": [
        "2.2 Declare a numeric variable and check its data type \\\n",
        "i. An interger variable."
      ]
    },
    {
      "cell_type": "code",
      "execution_count": null,
      "metadata": {
        "id": "YLEBSRgwjAU7",
        "colab": {
          "base_uri": "https://localhost:8080/"
        },
        "outputId": "d694ad35-8aa6-4222-cbd3-0e3c5903e3e3"
      },
      "outputs": [
        {
          "output_type": "stream",
          "name": "stdout",
          "text": [
            "<class 'int'>\n"
          ]
        }
      ],
      "source": [
        "mynum = 10\n",
        "print(type(mynum))"
      ]
    },
    {
      "cell_type": "markdown",
      "metadata": {
        "id": "9pgoDopkf98i"
      },
      "source": [
        "ii. A fractional variable"
      ]
    },
    {
      "cell_type": "code",
      "execution_count": null,
      "metadata": {
        "id": "-MnJNs3wjAU_",
        "colab": {
          "base_uri": "https://localhost:8080/"
        },
        "outputId": "64aa485f-182c-4adc-858a-0e3f7202ca08"
      },
      "outputs": [
        {
          "output_type": "stream",
          "name": "stdout",
          "text": [
            "<class 'float'>\n"
          ]
        }
      ],
      "source": [
        "myfrac = 10.5\n",
        "print(type(myfrac))"
      ]
    },
    {
      "cell_type": "markdown",
      "metadata": {
        "id": "AXxxJmhZf99c"
      },
      "source": [
        "<a id=\"boolean\"></a>\n",
        "## 3. Boolean Operations"
      ]
    },
    {
      "cell_type": "markdown",
      "metadata": {
        "id": "JZK5kOB9zAf1"
      },
      "source": [
        "Check whether the expression (54+34)* 45 is equal to the expression (0.9*2432)/0.9"
      ]
    },
    {
      "cell_type": "code",
      "execution_count": null,
      "metadata": {
        "id": "ZcU5ccNkjAVf",
        "colab": {
          "base_uri": "https://localhost:8080/"
        },
        "outputId": "56de1b33-e19b-4ef6-84f5-dcc8b3985936"
      },
      "outputs": [
        {
          "output_type": "execute_result",
          "data": {
            "text/plain": [
              "False"
            ]
          },
          "metadata": {},
          "execution_count": 6
        }
      ],
      "source": [
        "(54+34)* 45 == (0.9*2432)/0.9"
      ]
    },
    {
      "cell_type": "markdown",
      "metadata": {
        "id": "IShIieCJf99f"
      },
      "source": [
        "<a id=\"concatenation\"></a>\n",
        "## 4. Concatenation"
      ]
    },
    {
      "cell_type": "markdown",
      "metadata": {
        "id": "82jaPbMCzAf1"
      },
      "source": [
        "4.1 Create two strings and concatenate them using '+' operator."
      ]
    },
    {
      "cell_type": "code",
      "execution_count": 16,
      "metadata": {
        "id": "sv3wPchOjAVi",
        "colab": {
          "base_uri": "https://localhost:8080/",
          "height": 35
        },
        "outputId": "b9a84411-d981-46f8-9694-ee8f4ae91384"
      },
      "outputs": [
        {
          "output_type": "execute_result",
          "data": {
            "text/plain": [
              "'HelloWorld'"
            ],
            "application/vnd.google.colaboratory.intrinsic+json": {
              "type": "string"
            }
          },
          "metadata": {},
          "execution_count": 16
        }
      ],
      "source": [
        "str1 = \"Hello\"\n",
        "str2 = \"World\"\n",
        "str1 + str2"
      ]
    },
    {
      "cell_type": "markdown",
      "metadata": {
        "id": "OL9cj_rRf983"
      },
      "source": [
        "## 5. Arithmetic Operations"
      ]
    },
    {
      "cell_type": "markdown",
      "metadata": {
        "id": "d-fDNYvpzAf2"
      },
      "source": [
        "5.1 Evaluate 145 into 354 minus 1345 divided by 45 plus (462 plus 23) divided by 3"
      ]
    },
    {
      "cell_type": "code",
      "execution_count": null,
      "metadata": {
        "id": "0WSGZCeQjAVO"
      },
      "outputs": [],
      "source": [
        "354/145-1345# type your code here"
      ]
    },
    {
      "cell_type": "code",
      "source": [
        "(354+145-1345) / 45 + (462 + 23) / 3"
      ],
      "metadata": {
        "colab": {
          "base_uri": "https://localhost:8080/"
        },
        "id": "BMiY6kPiI6wY",
        "outputId": "2b0b619a-94e6-4169-a3b0-9d81858f1e84"
      },
      "execution_count": 17,
      "outputs": [
        {
          "output_type": "execute_result",
          "data": {
            "text/plain": [
              "142.86666666666665"
            ]
          },
          "metadata": {},
          "execution_count": 17
        }
      ]
    },
    {
      "cell_type": "markdown",
      "metadata": {
        "id": "is1xvVPAzAf2"
      },
      "source": [
        "5.2 Evaluate and print the results of the following \\\n",
        "1353 plus 234 \\\n",
        "2355 minus 346 \\\n",
        "234 times 457 \\\n",
        "25 divided by 6 \\\n",
        "Obtain remainder of 25 divided by 6 \\\n",
        "33 raised to 4 \\\n",
        "45 divided by 6 (floor division) \\\n",
        "2 raised to 10"
      ]
    },
    {
      "cell_type": "code",
      "execution_count": 20,
      "metadata": {
        "id": "i87c8jfIjAVR",
        "colab": {
          "base_uri": "https://localhost:8080/"
        },
        "outputId": "cc0e197c-b23e-484c-ace1-9cf776a8f010"
      },
      "outputs": [
        {
          "output_type": "execute_result",
          "data": {
            "text/plain": [
              "1536.079245283019"
            ]
          },
          "metadata": {},
          "execution_count": 20
        }
      ],
      "source": [
        "(1353 + 234) - (346 * 234) / (45 + (462 + 23)) / 3"
      ]
    },
    {
      "cell_type": "markdown",
      "metadata": {
        "id": "xl5wPTg_zAf2"
      },
      "source": [
        "5.3  Calculate BMI of a person (take input for height and weight from user)."
      ]
    },
    {
      "cell_type": "code",
      "execution_count": 23,
      "metadata": {
        "id": "8-izYT9kjAVU",
        "colab": {
          "base_uri": "https://localhost:8080/"
        },
        "outputId": "289eeb74-007f-41aa-d7fb-27251bbc41d8"
      },
      "outputs": [
        {
          "output_type": "stream",
          "name": "stdout",
          "text": [
            "27.79695431472081\n"
          ]
        }
      ],
      "source": [
        "height=74\n",
        "weight=197\n",
        "BMI=height**2/weight\n",
        "print(BMI)"
      ]
    },
    {
      "cell_type": "markdown",
      "metadata": {
        "id": "xozR0EP9Hq77"
      },
      "source": [
        "<a id=\"list\"> </a>\n",
        "## 6. List"
      ]
    },
    {
      "cell_type": "markdown",
      "metadata": {
        "id": "qul0qpBtzAf2"
      },
      "source": [
        "6.1 Write a program to perform following list operations on the list given below:\n",
        "\n",
        "a. Check the length of mix_list_1 \\\n",
        "b. Check the membership of '24' in mix_list_1 \\\n",
        "c. Concatenate the mix_list_1 and mix_list_2 \\\n",
        "d. Repeat the mix_list_2 three times"
      ]
    },
    {
      "cell_type": "markdown",
      "metadata": {
        "id": "y5fuZzHvHq78"
      },
      "source": [
        "**Lists to perform operations:**\n",
        "\n",
        "mix_list_1 = ['Learn', 24, 'Blue', False, -8]\n",
        "\n",
        "mix_list_2 = [4, 7, 'Summer']"
      ]
    },
    {
      "cell_type": "markdown",
      "metadata": {
        "id": "fb4IvjnCHq79"
      },
      "source": [
        "**a. Check the length of mix_list_1**"
      ]
    },
    {
      "cell_type": "code",
      "execution_count": 25,
      "metadata": {
        "id": "2LoU4Gt2Hq79",
        "colab": {
          "base_uri": "https://localhost:8080/"
        },
        "outputId": "b96bf223-53f2-425b-eb66-7518a2418d3b"
      },
      "outputs": [
        {
          "output_type": "execute_result",
          "data": {
            "text/plain": [
              "5"
            ]
          },
          "metadata": {},
          "execution_count": 25
        }
      ],
      "source": [
        "mix_list_1 = ['Learn', 24, 'Blue', False, -8]\n",
        "\n",
        "mix_list_2 = [4, 7, 'Summer']\n",
        "\n",
        "len(mix_list_1)"
      ]
    },
    {
      "cell_type": "markdown",
      "metadata": {
        "id": "EHjSh-veHq8C"
      },
      "source": [
        "**b. Check the membership of '24' in mix_list_1**"
      ]
    },
    {
      "cell_type": "code",
      "execution_count": 26,
      "metadata": {
        "id": "xy0gdMTsHq8C",
        "colab": {
          "base_uri": "https://localhost:8080/"
        },
        "outputId": "c9e9dd52-bb65-4c0e-da05-6c0d00f860c4"
      },
      "outputs": [
        {
          "output_type": "stream",
          "name": "stdout",
          "text": [
            "24 is in 'mix_list_1'\n"
          ]
        }
      ],
      "source": [
        "if 24 in mix_list_1:\n",
        "    print(\"24 is in 'mix_list_1'\")# type your code here"
      ]
    },
    {
      "cell_type": "markdown",
      "metadata": {
        "id": "NggnUh-sHq8F"
      },
      "source": [
        "**c. Concatenate the mix_list_1 and mix_list_2**"
      ]
    },
    {
      "cell_type": "code",
      "execution_count": 32,
      "metadata": {
        "id": "zkokv2UxHq8F",
        "colab": {
          "base_uri": "https://localhost:8080/"
        },
        "outputId": "f36e7204-44a9-44d3-d8ea-f1dca19963c1"
      },
      "outputs": [
        {
          "output_type": "stream",
          "name": "stdout",
          "text": [
            "['Learn', 24, 'Blue', False, -8, 4, 7, 'Summer']\n"
          ]
        }
      ],
      "source": [
        "mix_list_1.extend (mix_list_2)\n",
        "print(mix_list_1)"
      ]
    },
    {
      "cell_type": "markdown",
      "metadata": {
        "id": "KXnGgSLHHq8I"
      },
      "source": [
        "**d. Repeat the mix_list_2 three times**"
      ]
    },
    {
      "cell_type": "code",
      "execution_count": 33,
      "metadata": {
        "id": "7_9BewysHq8I",
        "colab": {
          "base_uri": "https://localhost:8080/"
        },
        "outputId": "ee463883-2196-45bf-cbf4-5930df925617"
      },
      "outputs": [
        {
          "output_type": "stream",
          "name": "stdout",
          "text": [
            "[4, 7, 'Summer', 4, 7, 'Summer', 4, 7, 'Summer']\n"
          ]
        }
      ],
      "source": [
        "print(mix_list_2*3)# type your code here"
      ]
    },
    {
      "cell_type": "markdown",
      "metadata": {
        "id": "fgSeN9dbzAf9"
      },
      "source": [
        "6.2 Write the program to multiply the two lists"
      ]
    },
    {
      "cell_type": "markdown",
      "metadata": {
        "id": "Rz2kjxyYHq8L"
      },
      "source": [
        "**Lists to perform multiplication:**\n",
        "\n",
        "num_list_1 = [1, 2, 3, 4]\n",
        "\n",
        "num_list_2 = [0, 5, 2, 1]"
      ]
    },
    {
      "source": [
        "product = []\n",
        "for i in range(len(num_list_1)):\n",
        "    product.append(num_list_1[i] * num_list_2[i])\n",
        "print(product)"
      ],
      "cell_type": "code",
      "metadata": {
        "colab": {
          "base_uri": "https://localhost:8080/"
        },
        "id": "9SjGHAWSUSEk",
        "outputId": "04784767-3b0f-48ef-a808-d7c287f93088"
      },
      "execution_count": 36,
      "outputs": [
        {
          "output_type": "stream",
          "name": "stdout",
          "text": [
            "[0, 10, 6, 4]\n"
          ]
        }
      ]
    },
    {
      "cell_type": "markdown",
      "metadata": {
        "id": "hVjfuMQ_zAf9"
      },
      "source": [
        "6.3 Write a code to retrieve elements from a list\n",
        "\n",
        "a. First element \\\n",
        "b. Second last element \\\n",
        "c. First three elements \\\n",
        "d. Slice the list from 1st index till the last index with an increment of an index by 2"
      ]
    },
    {
      "source": [
        "mix_list = ['Python', 1, 2, 3, 'Data', True]\n",
        "\n",
        "# a. First element\n",
        "first_element = mix_list[0]\n",
        "print(f\"First element: {first_element}\")\n",
        "\n",
        "# b. Second last element\n",
        "second_last_element = mix_list[-2]\n",
        "print(f\"Second last element: {second_last_element}\")\n",
        "\n",
        "# c. First three elements\n",
        "first_three_elements = mix_list[:3]\n",
        "print(f\"First three elements: {first_three_elements}\")\n",
        "\n",
        "# d. Slice the list from 1st index till the last index with an increment of an index by 2\n",
        "sliced_list = mix_list[1::2]\n",
        "print(f\"Sliced list: {sliced_list}\")"
      ],
      "cell_type": "code",
      "metadata": {
        "colab": {
          "base_uri": "https://localhost:8080/"
        },
        "id": "icQh6Wg7Uio7",
        "outputId": "d205d404-66ee-4142-a6ee-236caf4c4809"
      },
      "execution_count": 38,
      "outputs": [
        {
          "output_type": "stream",
          "name": "stdout",
          "text": [
            "First element: Python\n",
            "Second last element: Data\n",
            "First three elements: ['Python', 1, 2]\n",
            "Sliced list: [1, 3, True]\n"
          ]
        }
      ]
    },
    {
      "cell_type": "markdown",
      "metadata": {
        "id": "C7-N9cjuHq8P"
      },
      "source": [
        "**Use the below list**\n",
        "\n",
        "mix_list = ['Python', 1, 2, 3, 'Data', True]"
      ]
    },
    {
      "cell_type": "markdown",
      "metadata": {
        "id": "5gvhfoqGHq8Q"
      },
      "source": [
        "**a. First element**"
      ]
    },
    {
      "cell_type": "markdown",
      "metadata": {
        "id": "O4D_YwEEHq8U"
      },
      "source": [
        "**b. Second last element**"
      ]
    },
    {
      "cell_type": "markdown",
      "metadata": {
        "id": "KkYrr5nxHq8X"
      },
      "source": [
        "**c. First three elements**"
      ]
    },
    {
      "cell_type": "markdown",
      "metadata": {
        "id": "BfhQanNHzAf-"
      },
      "source": [
        "6.4 Manipulating a list:\n",
        "\n",
        "a. Add a new element 'Data' in the given list \\\n",
        "b. Add elements 'Excel' and 'Data' in the given list \\\n",
        "c. Replace an element 'C' with 'C++' in the given list"
      ]
    },
    {
      "source": [
        "languages_list = ['R', 'Python', 'C', 'Java']\n",
        "\n",
        "# a. Add a new element 'Data' to the list\n",
        "languages_list.append('Data')\n",
        "print(f\"Updated list after adding 'Data': {languages_list}\")\n",
        "\n",
        "# b. Add elements 'Excel' and 'Data' to the list\n",
        "languages_list.extend(['Excel', 'Data'])\n",
        "print(f\"Updated list after adding 'Excel' and 'Data': {languages_list}\")\n",
        "\n",
        "# c. Replace an element 'C' with 'C++' in the list\n",
        "languages_list[2] = 'C++'\n",
        "print(f\"Updated list after replacing 'C' with 'C++': {languages_list}\")"
      ],
      "cell_type": "code",
      "metadata": {
        "colab": {
          "base_uri": "https://localhost:8080/"
        },
        "id": "d5Vz9KfgUzuH",
        "outputId": "16ce9c54-28b6-470d-dd17-4fb7fe2f7cae"
      },
      "execution_count": 39,
      "outputs": [
        {
          "output_type": "stream",
          "name": "stdout",
          "text": [
            "Updated list after adding 'Data': ['R', 'Python', 'C', 'Java', 'Data']\n",
            "Updated list after adding 'Excel' and 'Data': ['R', 'Python', 'C', 'Java', 'Data', 'Excel', 'Data']\n",
            "Updated list after replacing 'C' with 'C++': ['R', 'Python', 'C++', 'Java', 'Data', 'Excel', 'Data']\n"
          ]
        }
      ]
    },
    {
      "source": [
        "updated_list = ['R', 'Python', 'C', 'Java', 'Data']\n",
        "\n",
        "# Add 'Data'\n",
        "updated_list.append('Data')\n",
        "print(\"Updated list after adding 'Data':\", updated_list)\n",
        "\n",
        "# Add 'Excel' and 'Data'\n",
        "updated_list.extend(['Excel', 'Data'])\n",
        "print(\"Updated list after adding 'Excel' and 'Data':\", updated_list)\n",
        "\n",
        "# Replace 'C' with 'C++'\n",
        "updated_list[2] = 'C++'\n",
        "print(\"Updated list after replacing 'C' with 'C++':\")"
      ],
      "cell_type": "code",
      "metadata": {
        "colab": {
          "base_uri": "https://localhost:8080/"
        },
        "id": "FVmaA78DU0S4",
        "outputId": "3a59917a-650a-4947-d582-3b2c7fd8e7fb"
      },
      "execution_count": 42,
      "outputs": [
        {
          "output_type": "stream",
          "name": "stdout",
          "text": [
            "Updated list after adding 'Data': ['R', 'Python', 'C', 'Java', 'Data', 'Data']\n",
            "Updated list after adding 'Excel' and 'Data': ['R', 'Python', 'C', 'Java', 'Data', 'Data', 'Excel', 'Data']\n",
            "Updated list after replacing 'C' with 'C++':\n"
          ]
        }
      ]
    },
    {
      "cell_type": "markdown",
      "metadata": {
        "id": "6ksiCCmSHq8v"
      },
      "source": [
        "#### Use the below list\n",
        "\n",
        "languages_list = ['R', 'Python', 'C', 'Java']"
      ]
    },
    {
      "cell_type": "markdown",
      "metadata": {
        "id": "N1ZIGDiDHq8v"
      },
      "source": [
        "**a. Add a new element 'Data' in the given list**"
      ]
    },
    {
      "cell_type": "markdown",
      "metadata": {
        "id": "xuln8KAsHq8y"
      },
      "source": [
        "**b. Add elements 'Excel' and 'Data' in the given list**"
      ]
    },
    {
      "cell_type": "markdown",
      "metadata": {
        "id": "wCl5_gw2Hq81"
      },
      "source": [
        "**c. Replace an element 'C' with 'C++' in the given list**"
      ]
    },
    {
      "cell_type": "markdown",
      "metadata": {
        "id": "MSRFdg56zAf_"
      },
      "source": [
        "6.5 How many times 'Summer' is occuring in a given list?"
      ]
    },
    {
      "cell_type": "markdown",
      "metadata": {
        "id": "Jhgx8xp0Hq84"
      },
      "source": [
        "#### Use the below list\n",
        "\n",
        "seasons_list = ['Summer', 'Winter', 'Spring', 'Winter', 'Spring' ,'Summer', 'Spring', 'Summer', 'Winter', 'Summer', 'Spring']"
      ]
    },
    {
      "cell_type": "code",
      "execution_count": 44,
      "metadata": {
        "id": "5u7MipCXHq84"
      },
      "outputs": [],
      "source": [
        "seasons_list = ['Summer', 'Winter', 'Spring', 'Winter', 'Spring' ,'Summer', 'Spring', 'Summer', 'Winter', 'Summer', 'Spring']\n"
      ]
    },
    {
      "source": [
        "seasons_list = ['Summer', 'Winter', 'Spring', 'Winter', 'Spring' ,'Summer', 'Spring', 'Summer', 'Winter', 'Summer', 'Spring']\n",
        "\n",
        "# Count the occurrences of 'Summer' in the list\n",
        "summer_count = seasons_list.count('Summer')\n",
        "\n",
        "# Print the result\n",
        "print(f\"Number of times 'Summer' occurs in the list: {summer_count}\")"
      ],
      "cell_type": "code",
      "metadata": {
        "colab": {
          "base_uri": "https://localhost:8080/"
        },
        "id": "4yzt_vxGV7I3",
        "outputId": "85e6a06c-4a71-4c73-85ca-1430b0901f13"
      },
      "execution_count": 45,
      "outputs": [
        {
          "output_type": "stream",
          "name": "stdout",
          "text": [
            "Number of times 'Summer' occurs in the list: 4\n"
          ]
        }
      ]
    },
    {
      "cell_type": "markdown",
      "metadata": {
        "id": "tjmTbT_5Hq88"
      },
      "source": [
        "## 7. Tuple\n",
        "7.1 Write a code to perform operations on tuple:\n",
        "\n",
        "a. Check the length of num_tuple \\\n",
        "b. Concatenate the num_tuple and mix_tuple \\\n",
        "c. Repeat the mix_tuple two times"
      ]
    },
    {
      "source": [
        "# Define the tuples\n",
        "num_tuple = (4, 4, 8)\n",
        "mix_tuple = ('John', 5, -2)\n",
        "\n",
        "# a. Check the length of num_tuple\n",
        "num_tuple_length = len(num_tuple)\n",
        "print(f\"Length of num_tuple: {num_tuple_length}\")\n",
        "\n",
        "# b. Concatenate the num_tuple and mix_tuple\n",
        "concatenated_tuple = num_tuple + mix_tuple\n",
        "print(f\"Concatenated tuple: {concatenated_tuple}\")\n",
        "\n",
        "# c. Repeat the mix_tuple two times\n",
        "repeated_mix_tuple = mix_tuple * 2\n",
        "print(f\"Repeated mix_tuple: {repeated_mix_tuple}\")"
      ],
      "cell_type": "code",
      "metadata": {
        "colab": {
          "base_uri": "https://localhost:8080/"
        },
        "id": "gLpxMeFUWQ7z",
        "outputId": "60540fea-cb7a-41dc-a6b4-83ff7a85180d"
      },
      "execution_count": 46,
      "outputs": [
        {
          "output_type": "stream",
          "name": "stdout",
          "text": [
            "Length of num_tuple: 3\n",
            "Concatenated tuple: (4, 4, 8, 'John', 5, -2)\n",
            "Repeated mix_tuple: ('John', 5, -2, 'John', 5, -2)\n"
          ]
        }
      ]
    },
    {
      "cell_type": "markdown",
      "metadata": {
        "id": "OUWhCypvHq89"
      },
      "source": [
        "**Tuples to perform operations:**\n",
        "\n",
        "num_tuple = (4, 4, 8)\n",
        "\n",
        "mix_tuple = 'John', 5, -2"
      ]
    },
    {
      "cell_type": "markdown",
      "metadata": {
        "id": "6YRuHhpRHq89"
      },
      "source": [
        "**a. Check the length of num_tuple**"
      ]
    },
    {
      "cell_type": "markdown",
      "metadata": {
        "id": "pf41oJT1Hq9A"
      },
      "source": [
        "**b. Concatenate the num_tuple and mix_tuple**"
      ]
    },
    {
      "cell_type": "markdown",
      "metadata": {
        "id": "5eVMFRY4Hq9C"
      },
      "source": [
        "**c. Repeat the mix_tuple two times**"
      ]
    },
    {
      "cell_type": "markdown",
      "metadata": {
        "id": "JEDqxvh8zAgA"
      },
      "source": [
        "7.2 Add a new element '4' to the given tuple"
      ]
    },
    {
      "source": [
        "# Convert the tuple to a list\n",
        "mix_list = list(mix_tuple)\n",
        "\n",
        "# Add the new element '4'\n",
        "mix_list.append('4')\n",
        "\n",
        "# Convert the list back to a tuple\n",
        "mix_tuple = tuple(mix_list)\n",
        "\n",
        "# Print the updated tuple\n",
        "print(f\"Updated tuple: {mix_tuple}\")"
      ],
      "cell_type": "code",
      "metadata": {
        "colab": {
          "base_uri": "https://localhost:8080/"
        },
        "id": "GiOI3ckmWrHy",
        "outputId": "2075bdec-1b2d-4ce2-d555-1926c0a0f860"
      },
      "execution_count": 48,
      "outputs": [
        {
          "output_type": "stream",
          "name": "stdout",
          "text": [
            "Updated tuple: ('John', 5, -2, '4')\n"
          ]
        }
      ]
    },
    {
      "cell_type": "markdown",
      "metadata": {
        "id": "y1tlFRgTHq9G"
      },
      "source": [
        "**Use the tuple below:**\n",
        "\n",
        "mix_tuple = (['a', 1, True], 2, 'Science', -5)"
      ]
    },
    {
      "cell_type": "code",
      "execution_count": null,
      "metadata": {
        "id": "vVr8nMfWHq9G"
      },
      "outputs": [],
      "source": [
        "# type your code here"
      ]
    },
    {
      "cell_type": "markdown",
      "metadata": {
        "id": "sH78_NvyzAgA"
      },
      "source": [
        "7.3 Replace the elements in the given tuple:\n",
        "\n",
        "a. Replace '2' with '3' \\\n",
        "b. Replace 'True' in first element with 'False'"
      ]
    },
    {
      "source": [
        "# Convert the tuple to a list\n",
        "mix_list = list(mix_tuple)\n",
        "\n",
        "# a. Replace '2' with '3'\n",
        "mix_list[1] = 3\n",
        "\n",
        "# b. Replace 'True' in first element with 'False'\n",
        "mix_list[0][2] = False\n",
        "\n",
        "# Convert the list back to a tuple\n",
        "mix_tuple = tuple(mix_list)\n",
        "\n",
        "# Print the updated tuple\n",
        "print(f\"Updated tuple: {mix_tuple}\")"
      ],
      "cell_type": "code",
      "metadata": {
        "colab": {
          "base_uri": "https://localhost:8080/",
          "height": 251
        },
        "id": "ZyRkszbbW11e",
        "outputId": "e6f25b29-9842-4727-8747-336dd7baa96f"
      },
      "execution_count": 51,
      "outputs": [
        {
          "output_type": "error",
          "ename": "TypeError",
          "evalue": "'str' object does not support item assignment",
          "traceback": [
            "\u001b[0;31m---------------------------------------------------------------------------\u001b[0m",
            "\u001b[0;31mTypeError\u001b[0m                                 Traceback (most recent call last)",
            "\u001b[0;32m<ipython-input-51-c9e80813ddab>\u001b[0m in \u001b[0;36m<cell line: 8>\u001b[0;34m()\u001b[0m\n\u001b[1;32m      6\u001b[0m \u001b[0;34m\u001b[0m\u001b[0m\n\u001b[1;32m      7\u001b[0m \u001b[0;31m# b. Replace 'True' in first element with 'False'\u001b[0m\u001b[0;34m\u001b[0m\u001b[0;34m\u001b[0m\u001b[0m\n\u001b[0;32m----> 8\u001b[0;31m \u001b[0mmix_list\u001b[0m\u001b[0;34m[\u001b[0m\u001b[0;36m0\u001b[0m\u001b[0;34m]\u001b[0m\u001b[0;34m[\u001b[0m\u001b[0;36m2\u001b[0m\u001b[0;34m]\u001b[0m \u001b[0;34m=\u001b[0m \u001b[0;32mFalse\u001b[0m\u001b[0;34m\u001b[0m\u001b[0;34m\u001b[0m\u001b[0m\n\u001b[0m\u001b[1;32m      9\u001b[0m \u001b[0;34m\u001b[0m\u001b[0m\n\u001b[1;32m     10\u001b[0m \u001b[0;31m# Convert the list back to a tuple\u001b[0m\u001b[0;34m\u001b[0m\u001b[0;34m\u001b[0m\u001b[0m\n",
            "\u001b[0;31mTypeError\u001b[0m: 'str' object does not support item assignment"
          ]
        }
      ]
    },
    {
      "source": [
        "mix_list[0] = list(mix_list[0])"
      ],
      "cell_type": "code",
      "metadata": {
        "id": "kLPSQRp4W-40"
      },
      "execution_count": 50,
      "outputs": []
    },
    {
      "cell_type": "markdown",
      "metadata": {
        "id": "bizHUBQ9Hq9J"
      },
      "source": [
        "**Use the tuple below:**\n",
        "\n",
        "mix_tuple = (['a', 1, True], 2, 'Science', -5)"
      ]
    },
    {
      "cell_type": "markdown",
      "metadata": {
        "id": "YG7TWxVhHq9K"
      },
      "source": [
        "**a. Replace '2' with '3'**"
      ]
    },
    {
      "cell_type": "code",
      "execution_count": null,
      "metadata": {
        "id": "eZAmxxuDHq9K"
      },
      "outputs": [],
      "source": [
        "# type your code here"
      ]
    },
    {
      "cell_type": "markdown",
      "metadata": {
        "id": "yYdRaCumHq9M"
      },
      "source": [
        "**b. Replace 'True' in first element of the tuple with 'False'**"
      ]
    },
    {
      "cell_type": "code",
      "execution_count": null,
      "metadata": {
        "id": "rr8Vr6Z_Hq9N"
      },
      "outputs": [],
      "source": [
        "# type your code here"
      ]
    },
    {
      "cell_type": "markdown",
      "metadata": {
        "id": "mVBzmc_8Cqw6"
      },
      "source": [
        "## 8. Set\n",
        "8.1 Write the program to perform following manipulations:\n",
        "\n",
        "a. Add '7' to the given set \\\n",
        "b. Remove '3' from a given set \\\n",
        "c. Clear the set"
      ]
    },
    {
      "source": [
        "# Given set\n",
        "num_set = {1, 2, 3, 4, 5, 6}\n",
        "\n",
        "# a. Add '7' to the set\n",
        "num_set.add(7)\n",
        "\n",
        "# b. Remove '3' from the set\n",
        "num_set.remove(3)\n",
        "\n",
        "# c. Clear the set\n",
        "num_set.clear()\n",
        "\n",
        "# Print the updated set\n",
        "print(num_set)"
      ],
      "cell_type": "code",
      "metadata": {
        "colab": {
          "base_uri": "https://localhost:8080/"
        },
        "id": "keRxHxtQXU1T",
        "outputId": "dc8b3117-10f8-4ec4-99cb-c31e955cd72d"
      },
      "execution_count": 52,
      "outputs": [
        {
          "output_type": "stream",
          "name": "stdout",
          "text": [
            "set()\n"
          ]
        }
      ]
    },
    {
      "cell_type": "markdown",
      "metadata": {
        "id": "Gh77UkvWCqw6"
      },
      "source": [
        "**Use the below set for manipulation**\n",
        "\n",
        "num_set = {1, 2, 3, 4, 5, 6}"
      ]
    },
    {
      "cell_type": "markdown",
      "metadata": {
        "id": "HH2xLD-iCqw7"
      },
      "source": [
        "**a. Add '7' to the given set**"
      ]
    },
    {
      "cell_type": "markdown",
      "metadata": {
        "id": "OHbfGzHZCqw7"
      },
      "source": [
        "**b. Remove '3' from a given set**"
      ]
    },
    {
      "cell_type": "markdown",
      "metadata": {
        "id": "FKwRnMZCCqw7"
      },
      "source": [
        "**c. Clear the set**"
      ]
    },
    {
      "cell_type": "markdown",
      "metadata": {
        "id": "gRGOe2zYzAgC"
      },
      "source": [
        "8.2 Create two sets of words from the given sentences and perform the following operations:\n",
        "\n",
        "a. Find the count of unique words in each of the sentence \\\n",
        "b. Find the common words in both the sentences"
      ]
    },
    {
      "source": [
        "# Import necessary libraries\n",
        "from collections import Counter\n",
        "\n",
        "# Define the sentences\n",
        "sentence_1 = 'We shall analyse the data using python'\n",
        "sentence_2 = 'Python for data science'\n",
        "\n",
        "# a. Count unique words in each sentence\n",
        "\n",
        "# Split sentences into words\n",
        "words_1 = sentence_1.split()\n",
        "words_2 = sentence_2.split()\n",
        "\n",
        "# Count occurrences of each word in each sentence\n",
        "word_counts_1 = Counter(words_1)\n",
        "word_counts_2 = Counter(words_2)\n",
        "\n",
        "# Print the counts of unique words\n",
        "print(f\"Sentence 1: {len(word_counts_1)} unique words\")\n",
        "print(f\"Sentence 2: {len(word_counts_2)} unique words\")\n",
        "\n",
        "# b. Find common words in both sentences\n",
        "\n",
        "# Find the intersection of both sets of words\n",
        "common_words = set(words_1).intersection(words_2)\n",
        "\n",
        "# Print the common words\n",
        "print(f\"Common words: {common_words}\")"
      ],
      "cell_type": "code",
      "metadata": {
        "colab": {
          "base_uri": "https://localhost:8080/"
        },
        "id": "gbG9g0UbXjtH",
        "outputId": "ded10ace-93e7-4dd7-8100-4e7c579fe619"
      },
      "execution_count": 53,
      "outputs": [
        {
          "output_type": "stream",
          "name": "stdout",
          "text": [
            "Sentence 1: 7 unique words\n",
            "Sentence 2: 4 unique words\n",
            "Common words: {'data'}\n"
          ]
        }
      ]
    },
    {
      "cell_type": "markdown",
      "metadata": {
        "id": "bTr22F8rCqw7"
      },
      "source": [
        "**Use the sentences given below:**\n",
        "    \n",
        "sentence_1 = 'We shall analyse the data using python'\n",
        "\n",
        "sentence_2 = 'Python for data science'"
      ]
    },
    {
      "cell_type": "markdown",
      "metadata": {
        "id": "oLxhbsjXCqw7"
      },
      "source": [
        "**Create set of words**"
      ]
    },
    {
      "cell_type": "markdown",
      "metadata": {
        "id": "5qDOJPIVCqw8"
      },
      "source": [
        "**a. Find the number of unique words in the sentences**"
      ]
    },
    {
      "cell_type": "markdown",
      "metadata": {
        "id": "Ll0Z33_1Cqw8"
      },
      "source": [
        "**b. Find the common words in both the sentences**"
      ]
    },
    {
      "cell_type": "markdown",
      "metadata": {
        "id": "CZRoG0_gCqw-"
      },
      "source": [
        "<a id=\"dict\"> </a>\n",
        "## 9. Dictionary"
      ]
    },
    {
      "cell_type": "markdown",
      "metadata": {
        "id": "YrPJi6l7zAgD"
      },
      "source": [
        "9.1 Write a code to add a key to a dictionary"
      ]
    },
    {
      "cell_type": "markdown",
      "metadata": {
        "id": "7sO9f3foCqw-"
      },
      "source": [
        "**Use the given dictionary and add a key (4:16)**\n",
        "\n",
        "square_dictionary = {1:1, 2:4, 3:9}"
      ]
    },
    {
      "cell_type": "code",
      "execution_count": 55,
      "metadata": {
        "id": "jWvg2gVbCqw-"
      },
      "outputs": [],
      "source": [
        "square_dictionary = {1:1, 2:4, 3:9}\n",
        "square_dictionary[4] = 16"
      ]
    },
    {
      "cell_type": "markdown",
      "metadata": {
        "id": "RmH2TUGJzAgD"
      },
      "source": [
        "9.2 Write a program to retrieve the keys/values of dictionary"
      ]
    },
    {
      "cell_type": "markdown",
      "metadata": {
        "id": "_NYbLssUCqw-"
      },
      "source": [
        "**Use the dictionary**\n",
        "\n",
        "mix_dictionary = {0:3, 'x':5, 1:2}"
      ]
    },
    {
      "source": [
        "# Given dictionary\n",
        "mix_dictionary = {0:3, 'x':5, 1:2}\n",
        "\n",
        "# a. Retrieve all keys\n",
        "keys = mix_dictionary.keys()\n",
        "print(f\"Keys: {keys}\")\n",
        "\n",
        "# b. Retrieve all values\n",
        "values = mix_dictionary.values()\n",
        "print(f\"Values: {values}\")\n",
        "\n",
        "# c. Retrieve all key-value pairs\n",
        "items = mix_dictionary.items()\n",
        "print(f\"Items: {items}\")"
      ],
      "cell_type": "code",
      "metadata": {
        "colab": {
          "base_uri": "https://localhost:8080/"
        },
        "id": "CmH4YvI-YZBb",
        "outputId": "d6d3e33d-f4ac-4f20-8d6f-8f1fff95a048"
      },
      "execution_count": 59,
      "outputs": [
        {
          "output_type": "stream",
          "name": "stdout",
          "text": [
            "Keys: dict_keys([0, 'x', 1])\n",
            "Values: dict_values([3, 5, 2])\n",
            "Items: dict_items([(0, 3), ('x', 5), (1, 2)])\n"
          ]
        }
      ]
    },
    {
      "cell_type": "markdown",
      "metadata": {
        "id": "ndYtrBeEzAgD"
      },
      "source": [
        "9.3 Write a program to get the value for 'Age' from the dictionary"
      ]
    },
    {
      "cell_type": "markdown",
      "metadata": {
        "id": "P1K4RdTxCqw-"
      },
      "source": [
        "**Use the dictionary**\n",
        "\n",
        "emp_record = {'Weight': 67, 'BMI': 25, 'Age': 27, 'Profession': 'CA'}"
      ]
    },
    {
      "cell_type": "code",
      "execution_count": 61,
      "metadata": {
        "id": "iW0p9h4NCqw_",
        "colab": {
          "base_uri": "https://localhost:8080/"
        },
        "outputId": "1d317bda-9b00-4ac0-cc44-f3ddf74762ed"
      },
      "outputs": [
        {
          "output_type": "stream",
          "name": "stdout",
          "text": [
            "27\n"
          ]
        }
      ],
      "source": [
        "emp_record = {'Weight': 67, 'BMI': 25, 'Age': 27, 'Profession': 'CA'}\n",
        "print(emp_record['Age'])"
      ]
    },
    {
      "cell_type": "markdown",
      "metadata": {
        "id": "bEAynmvFHq-M"
      },
      "source": [
        "## 10. Conditional Statements"
      ]
    },
    {
      "cell_type": "markdown",
      "metadata": {
        "id": "-p98Hw8_zAgE"
      },
      "source": [
        "10.1 Write a program to check whether a given number is multiple of 7 (use if statement)"
      ]
    },
    {
      "source": [
        "def is_multiple_of_7(number):\n",
        "  \"\"\"\n",
        "  This function checks whether the given number is a multiple of 7.\n",
        "\n",
        "  Args:\n",
        "    number: The number to be checked.\n",
        "\n",
        "  Returns:\n",
        "    True if the number is a multiple of 7, False otherwise.\n",
        "  \"\"\"\n",
        "\n",
        "  if number % 7 == 0:\n",
        "    return True\n",
        "  else:\n",
        "    return False\n",
        "\n",
        "# Example usage\n",
        "test_number = 49\n",
        "\n",
        "if is_multiple_of_7(test_number):\n",
        "  print(f\"{test_number} is a multiple of 7.\")\n",
        "else:\n",
        "  print(f\"{test_number} is not a multiple of 7.\")"
      ],
      "cell_type": "code",
      "metadata": {
        "colab": {
          "base_uri": "https://localhost:8080/"
        },
        "id": "nRj2YaBRY9nZ",
        "outputId": "60d26576-084c-4f78-b0a2-ad2fe776c25b"
      },
      "execution_count": 63,
      "outputs": [
        {
          "output_type": "stream",
          "name": "stdout",
          "text": [
            "49 is a multiple of 7.\n"
          ]
        }
      ]
    },
    {
      "cell_type": "markdown",
      "metadata": {
        "id": "K4lBfemyzAgE"
      },
      "source": [
        "10.2 Write a code to print the maximum of two numbers (use if-else)"
      ]
    },
    {
      "source": [
        "def max_of_two(num1, num2):\n",
        "  \"\"\"\n",
        "  This function finds the maximum of two numbers.\n",
        "\n",
        "  Args:\n",
        "      num1: The first number.\n",
        "      num2: The second number.\n",
        "\n",
        "  Returns:\n",
        "      The maximum of the two numbers.\n",
        "  \"\"\"\n",
        "\n",
        "  if num1 > num2:\n",
        "      return num1\n",
        "  else:\n",
        "      return num2\n",
        "\n",
        "# Example usage\n",
        "a = 10\n",
        "b = 4\n",
        "\n",
        "max_value = max_of_two(a, b)\n",
        "\n",
        "print(f\"The maximum of {a} and {b} is: {max_value}\")"
      ],
      "cell_type": "code",
      "metadata": {
        "colab": {
          "base_uri": "https://localhost:8080/"
        },
        "id": "RonX0q7YZOUB",
        "outputId": "d0376b07-08e7-4e46-fe75-189381e6f3b3"
      },
      "execution_count": 65,
      "outputs": [
        {
          "output_type": "stream",
          "name": "stdout",
          "text": [
            "The maximum of 10 and 4 is: 10\n"
          ]
        }
      ]
    },
    {
      "cell_type": "markdown",
      "metadata": {
        "id": "xyJSJOPkzAgF"
      },
      "source": [
        "10.3 Write a program to check whether a number is positive, negative or zero (use if-elif)"
      ]
    },
    {
      "source": [
        "def check_number_sign(number):\n",
        "  \"\"\"\n",
        "  This function checks whether the given number is positive, negative, or zero.\n",
        "\n",
        "  Args:\n",
        "    number: The number to be checked.\n",
        "\n",
        "  Returns:\n",
        "    A string indicating the sign of the number.\n",
        "  \"\"\"\n",
        "\n",
        "  if number > 0:\n",
        "    return \"Positive\"\n",
        "  elif number < 0:\n",
        "    return \"Negative\"\n",
        "  else:\n",
        "    return \"Zero\"\n",
        "\n",
        "# Example usage\n",
        "test_number = 5\n",
        "\n",
        "sign = check_number_sign(test_number)\n",
        "\n",
        "print(f\"The number {test_number} is {sign}.\")"
      ],
      "cell_type": "code",
      "metadata": {
        "colab": {
          "base_uri": "https://localhost:8080/"
        },
        "id": "peDu4sKKZVnO",
        "outputId": "2a5e480a-ab6e-4811-c6a5-9619d8ae076d"
      },
      "execution_count": 66,
      "outputs": [
        {
          "output_type": "stream",
          "name": "stdout",
          "text": [
            "The number 5 is Positive.\n"
          ]
        }
      ]
    },
    {
      "cell_type": "code",
      "execution_count": null,
      "metadata": {
        "id": "Y47AyVjLHq-T"
      },
      "outputs": [],
      "source": [
        "# type your code here"
      ]
    },
    {
      "cell_type": "markdown",
      "metadata": {
        "id": "qzPAniC_V3Vc"
      },
      "source": [
        "## 11. Python Flow Control"
      ]
    },
    {
      "cell_type": "markdown",
      "metadata": {
        "id": "YOI61JFdzAgG"
      },
      "source": [
        "11.1 Write a code to print table of 5 using assignment operand +="
      ]
    },
    {
      "source": [
        "# Initialize a variable to store the table\n",
        "table_of_5 = \"\"\n",
        "\n",
        "# Loop through numbers from 1 to 10\n",
        "for i in range(1, 11):\n",
        "  # Add the current multiplication result to the table string\n",
        "  table_of_5 += f\"5 x {i} = {5 * i}\\n\"\n",
        "\n",
        "# Print the final table\n",
        "print(table_of_5)"
      ],
      "cell_type": "code",
      "metadata": {
        "colab": {
          "base_uri": "https://localhost:8080/"
        },
        "id": "wW7XjgsSZhpq",
        "outputId": "b4b21fb2-6cf9-4caa-8a8d-d19fa8c3445d"
      },
      "execution_count": 68,
      "outputs": [
        {
          "output_type": "stream",
          "name": "stdout",
          "text": [
            "5 x 1 = 5\n",
            "5 x 2 = 10\n",
            "5 x 3 = 15\n",
            "5 x 4 = 20\n",
            "5 x 5 = 25\n",
            "5 x 6 = 30\n",
            "5 x 7 = 35\n",
            "5 x 8 = 40\n",
            "5 x 9 = 45\n",
            "5 x 10 = 50\n",
            "\n"
          ]
        }
      ]
    },
    {
      "cell_type": "markdown",
      "metadata": {
        "id": "BtH5xreczAgG"
      },
      "source": [
        "11.2 Write a program for generating a fibonacci series starting with 0 and 1 for the next 10 values using a while loop"
      ]
    },
    {
      "source": [
        "# Initialize the first two Fibonacci numbers\n",
        "i, j = 0, 1\n",
        "\n",
        "# Print the first two numbers\n",
        "print(i)\n",
        "print(j)\n",
        "\n",
        "# Loop to generate the next 10 Fibonacci numbers\n",
        "count = 2\n",
        "while count <= 10:\n",
        "  # Calculate the next Fibonacci number\n",
        "  k = i + j\n",
        "\n",
        "  # Print the next Fibonacci number\n",
        "  print(k)\n",
        "\n",
        "  # Update the values of i and j for the next iteration\n",
        "  i = j\n",
        "  j = k\n",
        "\n",
        "  # Increment the count\n",
        "  count += 1"
      ],
      "cell_type": "code",
      "metadata": {
        "colab": {
          "base_uri": "https://localhost:8080/"
        },
        "id": "Zph9XouDZuKc",
        "outputId": "1a5c6309-861d-4002-c3f7-92417435f1e9"
      },
      "execution_count": 69,
      "outputs": [
        {
          "output_type": "stream",
          "name": "stdout",
          "text": [
            "0\n",
            "1\n",
            "1\n",
            "2\n",
            "3\n",
            "5\n",
            "8\n",
            "13\n",
            "21\n",
            "34\n",
            "55\n"
          ]
        }
      ]
    },
    {
      "cell_type": "markdown",
      "source": [
        "## 12. Print Patterns"
      ],
      "metadata": {
        "id": "75gaiYtuSLee"
      }
    },
    {
      "cell_type": "markdown",
      "source": [
        "12.1 How to print full pyramid and asterisk(star) patterns in python\n",
        "\n",
        "        *   \n",
        "       *  *   \n",
        "      *  *  *   \n",
        "     *  *  *  *   \n",
        "    *  *  *  *  *   "
      ],
      "metadata": {
        "id": "2eUV00n0SWOT"
      }
    },
    {
      "source": [
        "def print_full_pyramid(n):\n",
        "  \"\"\"\n",
        "  This function prints a full pyramid pattern with the given number of rows.\n",
        "\n",
        "  Args:\n",
        "      n: Number of rows in the pyramid.\n",
        "  \"\"\"\n",
        "\n",
        "  for i in range(n):\n",
        "    # Print spaces\n",
        "    for j in range(n - i - 1):\n",
        "      print(\" \", end=\"\")\n",
        "\n",
        "    # Print increasing asterisks\n",
        "    for k in range(i + 1):\n",
        "      print(\"* \", end=\"\")\n",
        "\n",
        "    # Print decreasing asterisks\n",
        "    for m in range(k - 1, 0, -1):\n",
        "      print(\"* \", end=\"\")\n",
        "\n",
        "    print()\n",
        "\n",
        "# Example usage\n",
        "n = 5\n",
        "print_full_pyramid(n)"
      ],
      "cell_type": "code",
      "metadata": {
        "colab": {
          "base_uri": "https://localhost:8080/"
        },
        "id": "PokiLCQGZ73r",
        "outputId": "f7b1dd86-117c-411c-9ed5-d1873e19f603"
      },
      "execution_count": 71,
      "outputs": [
        {
          "output_type": "stream",
          "name": "stdout",
          "text": [
            "    * \n",
            "   * * \n",
            "  * * * * \n",
            " * * * * * * \n",
            "* * * * * * * * \n"
          ]
        }
      ]
    },
    {
      "cell_type": "markdown",
      "source": [
        "12.2 Form a lower tringular matrix in ' * ' pattern\n",
        "\n",
        "*\n",
        "* *  \\\\\n",
        "* * *  \\\\\n",
        "* * * *  \\\\\n",
        "* * * * *  \\\\"
      ],
      "metadata": {
        "id": "sM97IDlOSdXF"
      }
    },
    {
      "cell_type": "code",
      "source": [
        "#Form a lower tringular matrix in ' * ' pattern"
      ],
      "metadata": {
        "id": "d04enOIzSgjL"
      },
      "execution_count": 75,
      "outputs": []
    },
    {
      "source": [
        "def print_lower_triangle_asterisk(n):\n",
        "  \"\"\"\n",
        "  This function prints a lower triangular matrix in '* ' pattern with the given number of rows.\n",
        "\n",
        "  Args:\n",
        "      n: Number of rows in the matrix.\n",
        "  \"\"\"\n",
        "\n",
        "  for i in range(n):\n",
        "    for j in range(n):\n",
        "      if i >= j:\n",
        "        print(\"* \", end=\"\")\n",
        "      else:\n",
        "        print(\"  \", end=\"\")\n",
        "    print()\n",
        "\n",
        "# Example usage\n",
        "n = 5\n",
        "print_lower_triangle_asterisk(n)"
      ],
      "cell_type": "code",
      "metadata": {
        "colab": {
          "base_uri": "https://localhost:8080/"
        },
        "id": "L0RzfWtEaWsi",
        "outputId": "d426758c-3020-4983-d5ee-b670157b7209"
      },
      "execution_count": 74,
      "outputs": [
        {
          "output_type": "stream",
          "name": "stdout",
          "text": [
            "*         \n",
            "* *       \n",
            "* * *     \n",
            "* * * *   \n",
            "* * * * * \n"
          ]
        }
      ]
    }
  ],
  "metadata": {
    "colab": {
      "provenance": [],
      "include_colab_link": true
    },
    "kernelspec": {
      "display_name": "Python 3 (ipykernel)",
      "language": "python",
      "name": "python3"
    },
    "language_info": {
      "codemirror_mode": {
        "name": "ipython",
        "version": 3
      },
      "file_extension": ".py",
      "mimetype": "text/x-python",
      "name": "python",
      "nbconvert_exporter": "python",
      "pygments_lexer": "ipython3",
      "version": "3.9.7"
    }
  },
  "nbformat": 4,
  "nbformat_minor": 0
}
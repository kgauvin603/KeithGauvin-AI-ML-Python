{
  "cells": [
    {
      "cell_type": "markdown",
      "metadata": {
        "id": "view-in-github",
        "colab_type": "text"
      },
      "source": [
        "<a href=\"https://colab.research.google.com/github/kgauvin603/KeithGauvin-AI-ML-Python/blob/main/KGG_Completed_week_3_practice_exercises.ipynb\" target=\"_parent\"><img src=\"https://colab.research.google.com/assets/colab-badge.svg\" alt=\"Open In Colab\"/></a>"
      ]
    },
    {
      "cell_type": "markdown",
      "id": "073a9495",
      "metadata": {
        "id": "073a9495"
      },
      "source": [
        "# Week-3 Functional Programming with Python - Practice Exercises"
      ]
    },
    {
      "cell_type": "markdown",
      "id": "be7f2cad",
      "metadata": {
        "id": "be7f2cad"
      },
      "source": [
        "### Let's begin with some hands-on practice exercises"
      ]
    },
    {
      "cell_type": "markdown",
      "id": "8d88526e",
      "metadata": {
        "id": "8d88526e"
      },
      "source": [
        "### 1. Write a Python function that takes two numbers as input and returns their sum."
      ]
    },
    {
      "cell_type": "code",
      "execution_count": null,
      "id": "19510e8e",
      "metadata": {
        "colab": {
          "base_uri": "https://localhost:8080/"
        },
        "id": "19510e8e",
        "outputId": "51e25e99-156a-4d0d-8677-ebca84ce17b2"
      },
      "outputs": [
        {
          "output_type": "execute_result",
          "data": {
            "text/plain": [
              "5"
            ]
          },
          "metadata": {},
          "execution_count": 3
        }
      ],
      "source": [
        "def sum_two_numbers(a, b):\n",
        "\n",
        "  return a + b\n",
        "\n",
        "sum_two_numbers(2, 3)"
      ]
    },
    {
      "cell_type": "markdown",
      "id": "fa567375",
      "metadata": {
        "id": "fa567375"
      },
      "source": [
        "### 2.Write a Python function that takes a list of numbers as input and returns the maximum number from that list."
      ]
    },
    {
      "cell_type": "code",
      "execution_count": null,
      "id": "e2475417",
      "metadata": {
        "colab": {
          "base_uri": "https://localhost:8080/"
        },
        "id": "e2475417",
        "outputId": "c29eaa0f-a49d-48a0-bc77-cea2133e20f0"
      },
      "outputs": [
        {
          "output_type": "execute_result",
          "data": {
            "text/plain": [
              "5"
            ]
          },
          "metadata": {},
          "execution_count": 4
        }
      ],
      "source": [
        "\n",
        "def max_in_list(numbers):\n",
        "\n",
        "  max_num = numbers[0]\n",
        "  for number in numbers:\n",
        "    if number > max_num:\n",
        "      max_num = number\n",
        "  return max_num\n",
        "\n",
        "max_in_list([1, 2, 3, 4, 5])\n"
      ]
    },
    {
      "cell_type": "markdown",
      "id": "b266c086",
      "metadata": {
        "id": "b266c086"
      },
      "source": [
        "### 3. Create a Python function that checks whether a given number is even or odd and returns a corresponding message."
      ]
    },
    {
      "cell_type": "code",
      "execution_count": null,
      "id": "8d098243",
      "metadata": {
        "colab": {
          "base_uri": "https://localhost:8080/",
          "height": 35
        },
        "id": "8d098243",
        "outputId": "b2a87d92-83c5-4530-b09b-b9f7be6c981e"
      },
      "outputs": [
        {
          "output_type": "execute_result",
          "data": {
            "text/plain": [
              "'5 is odd.'"
            ],
            "application/vnd.google.colaboratory.intrinsic+json": {
              "type": "string"
            }
          },
          "metadata": {},
          "execution_count": 5
        }
      ],
      "source": [
        "\n",
        "def is_even_or_odd(number):\n",
        "\n",
        "  if number % 2 == 0:\n",
        "    return f\"{number} is even.\"\n",
        "  else:\n",
        "    return f\"{number} is odd.\"\n",
        "\n",
        "is_even_or_odd(5)\n"
      ]
    },
    {
      "cell_type": "markdown",
      "id": "5f2459e0",
      "metadata": {
        "id": "5f2459e0"
      },
      "source": [
        "### 4.Create a Python class representing an Item in an e-commerce system. Implement abstraction by providing methods to set the item details such as name, price, and description. Also, include a method to display the item details. Hide the implementation details of these methods."
      ]
    },
    {
      "cell_type": "code",
      "execution_count": null,
      "id": "eae8d71b",
      "metadata": {
        "colab": {
          "base_uri": "https://localhost:8080/"
        },
        "id": "eae8d71b",
        "outputId": "a8d3aaf1-f047-42e0-b6b9-519eb0786a7b"
      },
      "outputs": [
        {
          "output_type": "stream",
          "name": "stdout",
          "text": [
            "Name: Laptop\n",
            "Price: 1200\n",
            "Description: A powerful laptop for everyday use.\n"
          ]
        }
      ],
      "source": [
        "\n",
        "class Item:\n",
        "  def __init__(self, name, price, description):\n",
        "    self.__name = name\n",
        "    self.__price = price\n",
        "    self.__description = description\n",
        "\n",
        "  def set_name(self, name):\n",
        "    self.__name = name\n",
        "\n",
        "  def set_price(self, price):\n",
        "    self.__price = price\n",
        "\n",
        "  def set_description(self, description):\n",
        "    self.__description = description\n",
        "\n",
        "  def get_name(self):\n",
        "    return self.__name\n",
        "\n",
        "  def get_price(self):\n",
        "    return self.__price\n",
        "\n",
        "  def get_description(self):\n",
        "    return self.__description\n",
        "\n",
        "  def display_details(self):\n",
        "    print(f\"Name: {self.__name}\")\n",
        "    print(f\"Price: {self.__price}\")\n",
        "    print(f\"Description: {self.__description}\")\n",
        "\n",
        "item = Item(\"Laptop\", 1200, \"A powerful laptop for everyday use.\")\n",
        "item.display_details()\n"
      ]
    },
    {
      "cell_type": "markdown",
      "id": "755aec83",
      "metadata": {
        "id": "755aec83"
      },
      "source": [
        "### 5. Create a Python class representing a Customer in an e-commerce system. Implement abstraction by providing methods to set the customer details such as name, email, and address. Also, include a method to display the customer details. Hide the implementation details of these methods."
      ]
    },
    {
      "cell_type": "code",
      "execution_count": null,
      "id": "38623afb",
      "metadata": {
        "colab": {
          "base_uri": "https://localhost:8080/"
        },
        "id": "38623afb",
        "outputId": "d7ea91ca-0597-42b7-b385-40ee367ac35b"
      },
      "outputs": [
        {
          "output_type": "stream",
          "name": "stdout",
          "text": [
            "Name: John Doe\n",
            "Email: john.doe@example.com\n",
            "Address: 123 Main Street\n"
          ]
        }
      ],
      "source": [
        "class Customer:\n",
        "    def __init__(self):\n",
        "        self.__name = None\n",
        "        self.__email = None\n",
        "        self.__address = None\n",
        "\n",
        "    def set_name(self, name):\n",
        "        self.__name = name\n",
        "\n",
        "    def set_email(self, email):\n",
        "        self.__email = email\n",
        "\n",
        "    def set_address(self, address):\n",
        "        self.__address = address\n",
        "\n",
        "    def display_details(self):\n",
        "        print(\"Name:\", self.__name)\n",
        "        print(\"Email:\", self.__email)\n",
        "        print(\"Address:\", self.__address)\n",
        "\n",
        "customer = Customer()\n",
        "customer.set_name(\"John Doe\")\n",
        "customer.set_email(\"john.doe@example.com\")\n",
        "customer.set_address(\"123 Main Street\")\n",
        "customer.display_details()"
      ]
    },
    {
      "cell_type": "markdown",
      "id": "d8a8477c",
      "metadata": {
        "id": "d8a8477c"
      },
      "source": [
        "### 6.Create a Python class representing a Student. This class should have attributes like name, age, and grade. Implement methods to set and get these attributes."
      ]
    },
    {
      "cell_type": "code",
      "execution_count": null,
      "id": "3d6554de",
      "metadata": {
        "colab": {
          "base_uri": "https://localhost:8080/"
        },
        "id": "3d6554de",
        "outputId": "d957384d-24ff-47a8-bc30-ac8447aba544"
      },
      "outputs": [
        {
          "output_type": "stream",
          "name": "stdout",
          "text": [
            "John Doe\n",
            "18\n",
            "A\n",
            "Jane Doe\n",
            "19\n",
            "B\n"
          ]
        }
      ],
      "source": [
        "\n",
        "class Student:\n",
        "  def __init__(self, name, age, grade):\n",
        "    self.name = name\n",
        "    self.age = age\n",
        "    self.grade = grade\n",
        "\n",
        "  def set_name(self, name):\n",
        "    self.name = name\n",
        "\n",
        "  def set_age(self, age):\n",
        "    self.age = age\n",
        "\n",
        "  def set_grade(self, grade):\n",
        "    self.grade = grade\n",
        "\n",
        "  def get_name(self):\n",
        "    return self.name\n",
        "\n",
        "  def get_age(self):\n",
        "    return self.age\n",
        "\n",
        "  def get_grade(self):\n",
        "    return self.grade\n",
        "\n",
        "student = Student(\"John Doe\", 18, \"A\")\n",
        "\n",
        "print(student.get_name())  # Output: John Doe\n",
        "print(student.get_age())   # Output: 18\n",
        "print(student.get_grade()) # Output: A\n",
        "\n",
        "student.set_name(\"Jane Doe\")\n",
        "student.set_age(19)\n",
        "student.set_grade(\"B\")\n",
        "\n",
        "print(student.get_name())  # Output: Jane Doe\n",
        "print(student.get_age())   # Output: 19\n",
        "print(student.get_grade()) # Output: B\n"
      ]
    },
    {
      "cell_type": "markdown",
      "id": "08e017e9",
      "metadata": {
        "id": "08e017e9"
      },
      "source": [
        "### 7.Create a Python class representing a Circle. This class should have an attribute for the radius and methods to calculate the area and circumference of the circle."
      ]
    },
    {
      "cell_type": "code",
      "execution_count": null,
      "id": "5fe4f5e1",
      "metadata": {
        "colab": {
          "base_uri": "https://localhost:8080/"
        },
        "id": "5fe4f5e1",
        "outputId": "a13c5f36-6299-436b-c9c6-4e23b278675f"
      },
      "outputs": [
        {
          "output_type": "stream",
          "name": "stdout",
          "text": [
            "Area: 78.5\n",
            "Circumference: 31.400000000000002\n"
          ]
        }
      ],
      "source": [
        "\n",
        "class Circle:\n",
        "  def __init__(self, radius):\n",
        "    self.radius = radius\n",
        "\n",
        "  def calculate_area(self):\n",
        "    return 3.14 * self.radius ** 2\n",
        "\n",
        "  def calculate_circumference(self):\n",
        "    return 2 * 3.14 * self.radius\n",
        "\n",
        "circle = Circle(5)\n",
        "\n",
        "print(\"Area:\", circle.calculate_area())  # Output: 78.5\n",
        "print(\"Circumference:\", circle.calculate_circumference())  # Output: 31.4\n"
      ]
    },
    {
      "cell_type": "markdown",
      "source": [],
      "metadata": {
        "id": "1i3SsgiJGDbN"
      },
      "id": "1i3SsgiJGDbN"
    },
    {
      "cell_type": "markdown",
      "id": "fed944f2",
      "metadata": {
        "id": "fed944f2"
      },
      "source": [
        "## Power Ahead!"
      ]
    },
    {
      "cell_type": "code",
      "execution_count": null,
      "id": "61aa3244",
      "metadata": {
        "id": "61aa3244"
      },
      "outputs": [],
      "source": []
    }
  ],
  "metadata": {
    "kernelspec": {
      "display_name": "Python 3 (ipykernel)",
      "language": "python",
      "name": "python3"
    },
    "language_info": {
      "codemirror_mode": {
        "name": "ipython",
        "version": 3
      },
      "file_extension": ".py",
      "mimetype": "text/x-python",
      "name": "python",
      "nbconvert_exporter": "python",
      "pygments_lexer": "ipython3",
      "version": "3.9.7"
    },
    "colab": {
      "provenance": [],
      "include_colab_link": true
    }
  },
  "nbformat": 4,
  "nbformat_minor": 5
}